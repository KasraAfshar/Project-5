{
 "cells": [
  {
   "cell_type": "code",
   "execution_count": 1,
   "id": "8db3ca62-08a5-4567-9232-17c116e8d379",
   "metadata": {},
   "outputs": [],
   "source": [
    "\n",
    "def countdawn(x,y):\n",
    "    print(x)\n",
    "    if(x==y):\n",
    "        return 0\n",
    "    else:\n",
    "        countdawn(x-1,y)"
   ]
  },
  {
   "cell_type": "code",
   "execution_count": 2,
   "id": "bc48191a-bc4c-4020-aea8-db934e135fcd",
   "metadata": {},
   "outputs": [
    {
     "name": "stdout",
     "output_type": "stream",
     "text": [
      "34\n",
      "33\n",
      "32\n",
      "31\n",
      "30\n",
      "29\n",
      "28\n",
      "27\n",
      "26\n",
      "25\n"
     ]
    }
   ],
   "source": [
    "countdawn(34,25)"
   ]
  },
  {
   "cell_type": "code",
   "execution_count": null,
   "id": "6b6d0b94-5575-4b5d-8c94-8442f64c6985",
   "metadata": {},
   "outputs": [],
   "source": []
  }
 ],
 "metadata": {
  "kernelspec": {
   "display_name": "Python 3 (ipykernel)",
   "language": "python",
   "name": "python3"
  },
  "language_info": {
   "codemirror_mode": {
    "name": "ipython",
    "version": 3
   },
   "file_extension": ".py",
   "mimetype": "text/x-python",
   "name": "python",
   "nbconvert_exporter": "python",
   "pygments_lexer": "ipython3",
   "version": "3.13.1"
  }
 },
 "nbformat": 4,
 "nbformat_minor": 5
}
